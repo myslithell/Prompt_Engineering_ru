```ipynb
{
 "cells": [
  {
   "cell_type": "markdown",
   "metadata": {},
   "source": [
    "# Учебное пособие по введению в инженерию промптов\n",
    "\n",
    "## Обзор\n",
    "\n",
    "Это учебное пособие предоставляет всестороннее введение в фундаментальные концепции инженерии промптов в контексте ИИ и языковых моделей. Оно разработано для того, чтобы дать учащимся прочную основу в понимании того, как эффективно взаимодействовать и использовать большие языковые модели с помощью тщательно разработанных промптов.\n",
    "\n",
    "## Мотивация\n",
    "\n",
    "По мере того, как языковые модели ИИ становятся всё более сложными и широко используемыми, способность эффективно взаимодействовать с ними становится критически важным навыком. Инженерия промптов является ключом к раскрытию полного потенциала этих моделей, позволяя пользователям направлять выходные данные ИИ, улучшать качество ответов и решать сложные задачи. Целью этого учебного пособия является обеспечить учащихся необходимыми знаниями и навыками для начала их пути в инженерии промптов.\n",
    "\n",
    "## Ключевые компоненты\n",
    "\n",
    "Учебное пособие охватывает несколько ключевых компонентов инженерии промптов:\n",
    "\n",
    "1. **Базовые концепции**: Введение в то, что такое инженерия промптов и почему она важна.\n",
    "2. **Структуры промптов**: Изучение различных способов структурирования промптов для достижения различных результатов.\n",
    "3. **Важность инженерии промптов**: Обсуждение того, как инженерия промптов влияет на производительность модели ИИ.\n",
    "4. **Роль в ИИ и языковых моделях**: Рассмотрение того, как инженерия промптов вписывается в более широкий контекст приложений ИИ.\n",
    "5. **Практические примеры**: Практические демонстрации методов инженерии промптов.\n",
    "\n",
    "## Детали метода\n",
    "\n",
    "Учебное пособие использует сочетание теоретических объяснений и практических демонстраций для передачи концепций инженерии промптов:\n",
    "\n",
    "1. **Настройка и окружение**: Урок начинается с настройки необходимых инструментов, включая OpenAI API и библиотеку LangChain. Это обеспечивает практическую среду для экспериментов с промптами.\n",
    "\n",
    "2. **Изучение базовых концепций**: Через простые примеры учащиеся знакомятся с тем, как различные промпты могут давать разные ответы от модели ИИ. Это иллюстрирует фундаментальный принцип инженерии промптов.\n",
    "\n",
    "3. **Структурированные промпты**: Учебное пособие демонстрирует, как создавать более сложные, структурированные промпты с использованием PromptTemplate из LangChain. Это показывает, как создавать многоразовые структуры промптов с переменными входными данными.\n",
    "\n",
    "4. **Сравнительный анализ**: Представляя несколько промптов на одну и ту же тему, урок подчеркивает, как тонкие изменения в структуре и формулировке промпта могут значительно повлиять на вывод ИИ.\n",
    "\n",
    "5. **Применение для решения задач**: Учебное пособие исследует, как инженерия промптов может быть применена для разбиения сложных проблем, направляя ИИ через пошаговый процесс рассуждения.\n",
    "\n",
    "6. **Смягчение ограничений**: Приводятся примеры, показывающие, как тщательный дизайн промптов может помочь преодолеть некоторые ограничения моделей ИИ, такие как улучшение фактической точности.\n",
    "\n",
    "На протяжении всех этих методов учебное пособие подчеркивает важность ясности, конкретности и продуманного дизайна при создании эффективных промптов.\n",
    "\n",
    "## Заключение\n",
    "\n",
    "Это вводное учебное пособие по инженерии промптов закладывает основу для понимания и применения этого важного навыка во взаимодействии с ИИ. К концу урока учащиеся получат:\n",
    "\n",
    "1. Четкое понимание того, что такое инженерия промптов и почему она важна.\n",
    "2. Понимание того, как различные структуры промптов могут влиять на выходные данные ИИ.\n",
    "3. Практический опыт в разработке промптов для различных целей.\n",
    "4. Осведомленность о роли инженерии промптов в повышении производительности модели ИИ.\n",
    "5. Основу для изучения более продвинутых методов инженерии промптов.\n",
    "\n",
    "Навыки и знания, полученные в этом учебном пособии, позволят учащимся более эффективно использовать мощь языковых моделей ИИ, подготавливая почву для более продвинутых приложений и исследований в области искусственного интеллекта."
   ]
  },
  {
   "cell_type": "markdown",
   "metadata": {},
   "source": [
    "## Настройка\n",
    "\n",
    "Сначала импортируем необходимые библиотеки"
   ]
  },
  {
   "cell_type": "code",
   "execution_count": 1,
   "metadata": {},
   "outputs": [],
   "source": [
    "import os\n",
    "from langchain_openai import ChatOpenAI\n",
    "from langchain.prompts import PromptTemplate\n",
    "\n",
    "from dotenv import load_dotenv\n",
    "load_dotenv()\n",
    "\n",
    "os.environ[\"OPENAI_API_KEY\"] = os.getenv('OPENAI_API_KEY') # API ключ OpenAI\n",
    "# Инициализация языковой модели\n",
    "llm = ChatOpenAI(model=\"gpt-4o-mini\")"
   ]
  },
  {
   "cell_type": "markdown",
   "metadata": {},
   "source": [
    "## Базовые концепции и важность\n",
    "\n",
    "Инженерия промптов - это практика проектирования и оптимизации входных промптов для языковых моделей с целью генерации желаемых результатов. Это критически важный навык для эффективного использования моделей ИИ в различных приложениях.\n",
    "\n",
    "Давайте изучим концепцию на простом примере:"
   ]
  },
  {
   "cell_type": "code",
   "execution_count": 7,
   "metadata": {},
   "outputs": [
    {
     "name": "stdout",
     "output_type": "stream",
     "text": [
      "Prompt engineering is the process of designing and refining input prompts to optimize the responses generated by artificial intelligence models, enhancing their performance and relevance for specific tasks.\n"
     ]
    }
   ],
   "source": [
    "basic_prompt = \"Объясни концепцию инженерии промптов одним предложением.\"\n",
    "print(llm.invoke(basic_prompt).content)"
   ]
  },
  {
   "cell_type": "markdown",
   "metadata": {},
   "source": [
    "Теперь посмотрим, как более структурированный промпт может дать более детальный ответ:"
   ]
  },
  {
   "cell_type": "code",
   "execution_count": 10,
   "metadata": {},
   "outputs": [
    {
     "name": "stdout",
     "output_type": "stream",
     "text": [
      "### Definition of Prompt Engineering\n",
      "\n",
      "Prompt engineering is the process of designing and refining input prompts to effectively communicate with artificial intelligence (AI) models, particularly large language models (LLMs) like GPT-3 or GPT-4. This involves crafting specific, clear, and contextually appropriate prompts to elicit desired responses from the AI, optimizing the interaction to achieve better performance, accuracy, and relevance of the outputs.\n",
      "\n",
      "### Importance of Prompt Engineering\n",
      "\n",
      "Prompt engineering is crucial because it directly influences the quality and usefulness of the responses generated by AI models. As these models are trained on vast datasets, the way questions or requests are framed can significantly impact their ability to understand context, intent, and nuances. Effective prompt engineering can enhance the overall user experience, making AI tools more accessible and valuable for various applications, from content creation to customer service.\n",
      "\n",
      "### Key Benefits of Prompt Engineering\n",
      "\n",
      "1. **Enhanced Output Quality**:\n",
      "   - Well-crafted prompts can lead to more accurate, relevant, and coherent responses from AI models. This results in higher-quality outputs that meet user expectations and needs.\n",
      "\n",
      "2. **Increased Efficiency**:\n",
      "   - By optimizing prompts, users can save time and resources, reducing the number of iterations needed to achieve a satisfactory response. This efficiency is especially valuable in professional settings where time is of the essence.\n",
      "\n",
      "3. **Broader Applicability**:\n",
      "   - Effective prompt engineering allows users to tailor AI interactions to specific use cases, making AI more versatile. This adaptability can be applied across various domains, such as education, marketing, and research, enabling more innovative and impactful applications of AI technology.\n"
     ]
    }
   ],
   "source": [
    "structured_prompt = PromptTemplate(\n",
    "    input_variables=[\"topic\"],\n",
    "    template=\"Предоставь определение {topic}, объясни его важность и перечисли три ключевых преимущества.\"\n",
    ")\n",
    "\n",
    "chain = structured_prompt | llm # Объединяем шаблон промпта с языковой моделью\n",
    "input_variables = {\"topic\": \"инженерии промптов\"} # Определяем входные переменные\n",
    "output = chain.invoke(input_variables).content # Вызываем цепочку с входными переменными\n",
    "print(output)"
   ]
  },
  {
   "cell_type": "markdown",
   "metadata": {},
   "source": [
    "### Важность инженерии промптов\n",
    "\n",
    "Инженерия промптов важна, потому что она позволяет нам:\n",
    "1. Улучшить качество и релевантность выходных данных, сгенерированных ИИ\n",
    "2. Направлять языковые модели для более эффективного выполнения конкретных задач\n",
    "3. Преодолевать ограничения и предвзятости в моделях ИИ\n",
    "4. Настраивать ответы ИИ для различных случаев использования и аудиторий\n",
    "\n",
    "Давайте продемонстрируем, как различные промпты могут привести к разным результатам на одну и ту же тему:"
   ]
  },
  {
   "cell_type": "code",
   "execution_count": 12,
   "metadata": {},
   "outputs": [
    {
     "name": "stdout",
     "output_type": "stream",
     "text": [
      "\n",
      "Prompt 1:\n",
      "List 3 applications of AI in healthcare.\n",
      "\n",
      "Response:\n",
      "Here are three applications of AI in healthcare:\n",
      "\n",
      "1. **Medical Imaging and Diagnostics**: AI algorithms, particularly those based on deep learning, are used to analyze medical images (such as X-rays, MRIs, and CT scans) to assist radiologists in diagnosing conditions like tumors, fractures, and other abnormalities. These systems can enhance accuracy and speed in detecting diseases, often identifying issues that may be missed by human eyes.\n",
      "\n",
      "2. **Predictive Analytics for Patient Outcomes**: AI can analyze large datasets from electronic health records (EHRs) to predict patient outcomes, such as the likelihood of readmission, progression of diseases, or response to specific treatments. This application helps healthcare providers make informed decisions about patient care and improve overall treatment plans.\n",
      "\n",
      "3. **Personalized Medicine**: AI is used to tailor treatment plans to individual patients by analyzing genetic information, lifestyle data, and other personal health factors. This approach allows for more effective and targeted therapies, especially in areas like oncology, where understanding the genetic makeup of tumors can lead to better treatment options. \n",
      "\n",
      "These applications demonstrate how AI is transforming healthcare by improving diagnostics, enhancing patient care, and personalizing treatment.\n",
      "--------------------------------------------------\n",
      "\n",
      "Prompt 2:\n",
      "Explain how AI is revolutionizing healthcare, with 3 specific examples.\n",
      "\n",
      "Response:\n",
      "AI is significantly transforming healthcare by enhancing diagnostics, personalizing treatment, and optimizing operational efficiency. Here are three specific examples:\n",
      "\n",
      "1. **Diagnostic Imaging**:\n",
      "   AI algorithms, particularly deep learning models, are being applied to medical imaging to improve the accuracy and speed of diagnoses. For instance, AI systems can analyze X-rays, MRIs, and CT scans to detect anomalies such as tumors, fractures, or other conditions with remarkable precision. A notable example is Google's DeepMind, which developed an AI system that can detect eye diseases from retinal scans with accuracy that matches or surpasses that of human experts. This capability not only speeds up the diagnostic process but also helps in identifying issues that may sometimes be missed by human radiologists.\n",
      "\n",
      "2. **Predictive Analytics for Patient Outcomes**:\n",
      "   AI is being used to predict patient outcomes and identify those at risk for complications or readmissions. For example, algorithms can analyze vast amounts of patient data, including medical history, lab results, and demographic information, to identify patterns that indicate a higher likelihood of adverse events. Hospitals like Mount Sinai have implemented AI-driven tools that analyze electronic health records to predict which patients are at risk of developing conditions like sepsis. By flagging these patients early, healthcare providers can intervene promptly, improving outcomes and potentially saving lives.\n",
      "\n",
      "3. **Personalized Medicine**:\n",
      "   AI is playing a crucial role in the development of personalized treatment plans based on an individual's unique genetic makeup and lifestyle factors. For instance, companies like Tempus utilize AI to analyze clinical and molecular data to help oncologists tailor cancer treatments to individual patients. By processing genomic sequencing data and correlating it with treatment outcomes, AI helps identify which therapies are likely to be most effective for specific patients, thereby enhancing the efficacy of treatment and minimizing unnecessary side effects.\n",
      "\n",
      "Together, these examples illustrate how AI is not only improving diagnostic accuracy and patient outcomes but also fostering a more personalized and efficient healthcare system.\n",
      "--------------------------------------------------\n",
      "\n",
      "Prompt 3:\n",
      "You are a doctor. Describe 3 ways AI has improved your daily work in the hospital.\n",
      "\n",
      "Response:\n",
      "As a doctor, AI has significantly transformed my daily work in several ways:\n",
      "\n",
      "1. **Enhanced Diagnostic Accuracy**: AI-powered diagnostic tools help analyze medical images, such as X-rays, MRIs, and CT scans, with remarkable precision. These systems can identify patterns and anomalies that might be overlooked by the human eye, leading to earlier and more accurate diagnoses. For instance, AI algorithms can assist in detecting early signs of diseases like cancer, allowing for timely intervention and better patient outcomes.\n",
      "\n",
      "2. **Streamlined Administrative Tasks**: AI has automated various administrative processes, such as scheduling appointments, managing patient records, and processing insurance claims. Tools like natural language processing (NLP) enable voice recognition for clinical documentation, reducing the time spent on paperwork. This efficiency allows me to focus more on patient care rather than administrative burdens, ultimately improving the overall patient experience.\n",
      "\n",
      "3. **Personalized Treatment Plans**: AI analyzes vast amounts of patient data, including genetic information, treatment history, and lifestyle factors, to help create personalized treatment plans. By leveraging predictive analytics, AI can identify the most effective interventions for individual patients, considering their unique circumstances. This tailored approach not only enhances the effectiveness of treatments but also fosters better patient engagement and adherence to medical advice.\n",
      "\n",
      "Overall, AI has become an invaluable tool in my practice, enhancing diagnostic capabilities, improving efficiency, and enabling more personalized patient care.\n",
      "--------------------------------------------------\n"
     ]
    }
   ],
   "source": [
    "prompts = [\n",
    "    \"Перечисли 3 применения ИИ в здравоохранении.\",\n",
    "    \"Объясни, как ИИ революционизирует здравоохранение, приведя 3 конкретных примера.\",\n",
    "    \"Ты врач. Опиши 3 способа, которыми ИИ улучшил твою ежедневную работу в больнице.\"\n",
    "]\n",
    "\n",
    "for i, prompt in enumerate(prompts, 1):\n",
    "    print(f\"\\nПромпт {i}:\")\n",
    "    print(prompt)\n",
    "    print(\"\\nОтвет:\")\n",
    "    print(llm.invoke(prompt).content)\n",
    "    print(\"-\" * 50)"
   ]
  },
  {
   "cell_type": "markdown",
   "metadata": {},
   "source": [
    "## Роль в ИИ и языковых моделях\n",
    "\n",
    "Инженерия промптов играет решающую роль в повышении производительности и применимости ИИ и языковых моделей. Она помогает в:\n",
    "\n",
    "1. Адаптации выходных данных модели к конкретным потребностям\n",
    "2. Улучшении точности и релевантности ответов\n",
    "3. Обеспечении выполнения сложных задач\n",
    "4. Снижении предвзятости и улучшении справедливости в выходных данных ИИ\n",
    "\n",
    "Давайте рассмотрим, как инженерия промптов может помочь в преодолении некоторых ограничений языковых моделей:"
   ]
  },
  {
   "cell_type": "code",
   "execution_count": 13,
   "metadata": {},
   "outputs": [
    {
     "name": "stdout",
     "output_type": "stream",
     "text": [
      "Evaluation: The statement is incorrect. The capital of France is Paris, not London.\n"
     ]
    }
   ],
   "source": [
    "fact_check_prompt = PromptTemplate(\n",
    "    input_variables=[\"statement\"],\n",
    "    template=\"\"\"Оцени следующее утверждение на фактическую точность. Если оно неверно, предоставь правильную информацию:\n",
    "    Утверждение: {statement}\n",
    "    Оценка:\"\"\"\n",
    ")\n",
    "\n",
    "chain = fact_check_prompt | llm\n",
    "print(chain.invoke(\"Столица Франции - Лондон.\").content)"
   ]
  },
  {
   "cell_type": "markdown",
   "metadata": {},
   "source": [
    "### Улучшение решения сложных проблем\n",
    "\n",
    "Инженерия промптов также может помочь в разбиении сложных проблем и направлении модели через пошаговый процесс рассуждения:"
   ]
  },
  {
   "cell_type": "code",
   "execution_count": 14,
   "metadata": {},
   "outputs": [
    {
     "name": "stdout",
     "output_type": "stream",
     "text": [
      "To calculate the compound interest on an investment, we can use the formula for compound interest:\n",
      "\n",
      "\\[\n",
      "A = P(1 + r/n)^{nt}\n",
      "\\]\n",
      "\n",
      "Where:\n",
      "- \\( A \\) = the amount of money accumulated after n years, including interest.\n",
      "- \\( P \\) = the principal amount (the initial amount of money).\n",
      "- \\( r \\) = annual interest rate (decimal).\n",
      "- \\( n \\) = number of times that interest is compounded per year.\n",
      "- \\( t \\) = the number of years the money is invested or borrowed.\n",
      "\n",
      "In this problem:\n",
      "- \\( P = 1000 \\) (the principal amount)\n",
      "- \\( r = 0.05 \\) (5% annual interest rate expressed as a decimal)\n",
      "- \\( n = 1 \\) (interest is compounded annually)\n",
      "- \\( t = 5 \\) (the number of years)\n",
      "\n",
      "Now, we will calculate step by step:\n",
      "\n",
      "### Step 1: Substitute the values into the formula\n",
      "\n",
      "\\[\n",
      "A = 1000 \\left(1 + \\frac{0.05}{1}\\right)^{1 \\times 5}\n",
      "\\]\n",
      "\n",
      "### Step 2: Simplify the expression inside the parentheses\n",
      "\n",
      "\\[\n",
      "A = 1000 \\left(1 + 0.05\\right)^{5}\n",
      "\\]\n",
      "\\[\n",
      "A = 1000 \\left(1.05\\right)^{5}\n",
      "\\]\n",
      "\n",
      "### Step 3: Calculate \\( (1.05)^{5} \\)\n",
      "\n",
      "Using a calculator or by manual computation:\n",
      "\\[\n",
      "(1.05)^{5} \\approx 1.2762815625\n",
      "\\]\n",
      "\n",
      "### Step 4: Multiply by the principal amount\n",
      "\n",
      "Now, we substitute back to find \\( A \\):\n",
      "\n",
      "\\[\n",
      "A = 1000 \\times 1.2762815625 \\approx 1276.28\n",
      "\\]\n",
      "\n",
      "### Step 5: Calculate the compound interest\n",
      "\n",
      "The compound interest can be found by subtracting the principal from the total amount:\n",
      "\n",
      "\\[\n",
      "\\text{Compound Interest} = A - P\n",
      "\\]\n",
      "\\[\n",
      "\\text{Compound Interest} = 1276.28 - 1000 \\approx 276.28\n",
      "\\]\n",
      "\n",
      "### Final Result\n",
      "\n",
      "The compound interest on $1000 invested for 5 years at an annual rate of 5%, compounded annually, is approximately **$276.28**.\n"
     ]
    }
   ],
   "source": [
    "problem_solving_prompt = PromptTemplate(\n",
    "    input_variables=[\"problem\"],\n",
    "    template=\"\"\"Реши следующую задачу пошагово:\n",
    "    Задача: {problem}\n",
    "    Решение:\n",
    "    1)\"\"\"\n",
    ")\n",
    "\n",
    "chain = problem_solving_prompt | llm\n",
    "print(chain.invoke(\"Рассчитай сложный процент на $1000, инвестированных на 5 лет при годовой ставке 5%, начисляемых ежегодно.\").content)"
   ]
  }
 ],
 "metadata": {
  "kernelspec": {
   "display_name": ".venv",
   "language": "python",
   "name": "python3"
  },
  "language_info": {
   "codemirror_mode": {
    "name": "ipython",
    "version": 3
   },
   "file_extension": ".py",
   "mimetype": "text/x-python",
   "name": "python",
   "nbconvert_exporter": "python",
   "pygments_lexer": "ipython3",
   "version": "3.12.0"
  }
 },
 "nbformat": 4,
 "nbformat_minor": 4
}
```
